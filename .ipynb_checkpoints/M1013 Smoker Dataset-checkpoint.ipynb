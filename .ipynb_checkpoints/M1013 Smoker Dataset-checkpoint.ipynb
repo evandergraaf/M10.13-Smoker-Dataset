{
 "cells": [
  {
   "cell_type": "markdown",
   "id": "e6ffe7d6-3fc3-4103-aeab-6462041dfa83",
   "metadata": {},
   "source": [
    "# Smoker Dataset\n",
    "## Module 10.13 Assignment 10: Final Project\n",
    "Dec. 2024\n",
    "\n",
    "Authors: Tyler Earps, Ryan Smith, Basil Mullings, & Ean Vandergraaf"
   ]
  },
  {
   "cell_type": "markdown",
   "id": "6502a707-bc32-46a2-824b-576109d17d29",
   "metadata": {},
   "source": [
    "### Stage 0: Abstract and Data Description"
   ]
  },
  {
   "cell_type": "code",
   "execution_count": null,
   "id": "0ae10eda-cff0-4b4f-acda-4fad913c3b87",
   "metadata": {},
   "outputs": [],
   "source": []
  },
  {
   "cell_type": "markdown",
   "id": "14d3307e-d96a-43aa-8fc3-b51ec0f78cca",
   "metadata": {},
   "source": [
    "### Stage 1: Data Preparation"
   ]
  },
  {
   "cell_type": "code",
   "execution_count": null,
   "id": "fbe58c92-b8c2-4ef1-9bb0-98f22c136c4c",
   "metadata": {},
   "outputs": [],
   "source": []
  },
  {
   "cell_type": "markdown",
   "id": "ebe32ba3-47da-49c4-8941-4b75861214d5",
   "metadata": {},
   "source": [
    "### Stage 2: Feature Extraction"
   ]
  },
  {
   "cell_type": "code",
   "execution_count": null,
   "id": "e53aec42-13c6-4a37-8bb3-2e3a24a36bb4",
   "metadata": {},
   "outputs": [],
   "source": []
  },
  {
   "cell_type": "markdown",
   "id": "961bdcbe-9874-46f8-8323-83729cd83af4",
   "metadata": {},
   "source": [
    "### Stage 3: Machine Learning Algorithm Preparation and Parameter Tuning"
   ]
  },
  {
   "cell_type": "code",
   "execution_count": null,
   "id": "b70f073f-dbf5-4ebd-a681-cc83a9649030",
   "metadata": {},
   "outputs": [],
   "source": []
  },
  {
   "cell_type": "markdown",
   "id": "bd52e1aa-45cc-4966-8d59-1d6f86787169",
   "metadata": {},
   "source": [
    "### Stage 4: Model Evaluation"
   ]
  },
  {
   "cell_type": "code",
   "execution_count": null,
   "id": "313a84ed-50a9-4532-8d00-f4e9f1e61663",
   "metadata": {},
   "outputs": [],
   "source": []
  },
  {
   "cell_type": "markdown",
   "id": "4113fb57-4c37-4e29-96c4-b603efab1c02",
   "metadata": {},
   "source": [
    "### Stage 5: Visualization"
   ]
  },
  {
   "cell_type": "code",
   "execution_count": null,
   "id": "5f6c29d8-6b58-4ed1-a3b8-eaca8e8a6cc8",
   "metadata": {},
   "outputs": [],
   "source": []
  },
  {
   "cell_type": "markdown",
   "id": "a1b84a83-26e7-49db-8daa-11e8ba857f98",
   "metadata": {},
   "source": [
    "### Limitations, Future Work, and Conclusion"
   ]
  },
  {
   "cell_type": "markdown",
   "id": "995d7de9-0e63-4938-8a5a-ad8b1de44149",
   "metadata": {},
   "source": []
  },
  {
   "cell_type": "markdown",
   "id": "25b26107-db3f-401e-85e0-48043cf2d839",
   "metadata": {},
   "source": [
    "### Overall Performance and Documentation"
   ]
  },
  {
   "cell_type": "markdown",
   "id": "d41194a3-f36c-4b96-8e37-b67ce2a57b40",
   "metadata": {},
   "source": []
  }
 ],
 "metadata": {
  "kernelspec": {
   "display_name": "Python 3 (ipykernel)",
   "language": "python",
   "name": "python3"
  },
  "language_info": {
   "codemirror_mode": {
    "name": "ipython",
    "version": 3
   },
   "file_extension": ".py",
   "mimetype": "text/x-python",
   "name": "python",
   "nbconvert_exporter": "python",
   "pygments_lexer": "ipython3",
   "version": "3.8.10"
  }
 },
 "nbformat": 4,
 "nbformat_minor": 5
}
