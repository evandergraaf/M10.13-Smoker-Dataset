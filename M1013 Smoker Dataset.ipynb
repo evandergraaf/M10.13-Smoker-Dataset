{
 "cells": [
  {
   "cell_type": "markdown",
   "id": "e6ffe7d6-3fc3-4103-aeab-6462041dfa83",
   "metadata": {},
   "source": [
    "# Smoker Dataset\n",
    "## Module 10.13 Assignment 10: Final Project\n",
    "Dec. 2024\n",
    "\n",
    "Authors: Tyler Earps, Ryan Smith, Basil Mullings, & Ean Vandergraaf"
   ]
  },
  {
   "cell_type": "markdown",
   "id": "6502a707-bc32-46a2-824b-576109d17d29",
   "metadata": {},
   "source": [
    "### Abstract and Data Description"
   ]
  },
  {
   "cell_type": "code",
   "execution_count": null,
   "id": "0ae10eda-cff0-4b4f-acda-4fad913c3b87",
   "metadata": {},
   "outputs": [],
   "source": []
  },
  {
   "cell_type": "markdown",
   "id": "14d3307e-d96a-43aa-8fc3-b51ec0f78cca",
   "metadata": {},
   "source": [
    "### Data Preparation and Feature Extraction"
   ]
  },
  {
   "cell_type": "code",
   "execution_count": null,
   "id": "fbe58c92-b8c2-4ef1-9bb0-98f22c136c4c",
   "metadata": {},
   "outputs": [],
   "source": []
  },
  {
   "cell_type": "markdown",
   "id": "961bdcbe-9874-46f8-8323-83729cd83af4",
   "metadata": {},
   "source": [
    "### Machine Learning Algorithm Preparation and Tuning"
   ]
  },
  {
   "cell_type": "code",
   "execution_count": null,
   "id": "b70f073f-dbf5-4ebd-a681-cc83a9649030",
   "metadata": {},
   "outputs": [],
   "source": []
  },
  {
   "cell_type": "markdown",
   "id": "a1b84a83-26e7-49db-8daa-11e8ba857f98",
   "metadata": {},
   "source": [
    "### Limitations, Future Work, and Conclusion"
   ]
  },
  {
   "cell_type": "code",
   "execution_count": null,
   "id": "9d4081a6-5824-48f3-a6a8-20184f0753a0",
   "metadata": {},
   "outputs": [],
   "source": []
  }
 ],
 "metadata": {
  "kernelspec": {
   "display_name": "Python 3 (ipykernel)",
   "language": "python",
   "name": "python3"
  },
  "language_info": {
   "codemirror_mode": {
    "name": "ipython",
    "version": 3
   },
   "file_extension": ".py",
   "mimetype": "text/x-python",
   "name": "python",
   "nbconvert_exporter": "python",
   "pygments_lexer": "ipython3",
   "version": "3.8.10"
  }
 },
 "nbformat": 4,
 "nbformat_minor": 5
}
